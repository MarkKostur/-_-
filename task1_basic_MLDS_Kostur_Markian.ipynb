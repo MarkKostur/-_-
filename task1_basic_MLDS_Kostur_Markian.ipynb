{
 "cells": [
  {
   "cell_type": "markdown",
   "metadata": {
    "id": "HXiPVw_feCSb"
   },
   "source": [
    "## Завдання на лабораторну работу №1\n",
    "\n",
    "В цій лабораторної роботі Вам буде запропоновано вирішити кілька завдань скориставшись засобами мови python. Рішення кожного завдання передбачає написання коду і демонстрація його працездатності на прикладах. За кожне вірно виконане завдання Ви отримуєте **1 бал**.\n",
    "\n",
    "**Роботи ідентифіковані як ІДЕНТИЧНІ одразу отримують 0 балів.**\n",
    "\n",
    "[зверніть увагу на типізацію функцій](https://docs.python.org/3/library/typing.html)\n",
    "\n",
    "```NB```: При написанні коду не забувайте видаляти ```pass```!"
   ]
  },
  {
   "cell_type": "markdown",
   "metadata": {
    "id": "TmyQqNDcZVsT"
   },
   "source": [
    "**Don't cheat!**"
   ]
  },
  {
   "cell_type": "markdown",
   "metadata": {
    "id": "IPQHbkSueCSf"
   },
   "source": [
    "Перед тим, як надіслати своє завдання на перевірку, вкажіть в назві файлу своє ім'я та прізвище!\n",
    "Наприклад: ```task1_basic_ML&DS_anastasiya_deineko.ipynb```"
   ]
  },
  {
   "cell_type": "markdown",
   "metadata": {
    "id": "OE2qgEaeeCSg"
   },
   "source": [
    "Завдання 1: На вхід функція приймає рядок s. Функція повинна повернути True якщо рядок є паліндромом та False – в протилежному випадку.\n",
    "\n",
    "Наприклад:\n",
    "\n",
    "*   `is_palindrome(s='anade') -> False`\n",
    "*   `is_palindrome(s='ana') -> True`\n",
    "\n",
    "\n"
   ]
  },
  {
   "cell_type": "code",
   "execution_count": 8,
   "metadata": {
    "ExecuteTime": {
     "end_time": "2024-02-21T08:31:36.438802700Z",
     "start_time": "2024-02-21T08:31:36.289868100Z"
    },
    "id": "Kkp_Eb1jeCSg"
   },
   "outputs": [
    {
     "name": "stdout",
     "output_type": "stream",
     "text": [
      "True\n",
      "False\n"
     ]
    }
   ],
   "source": [
    "def is_palindrome(s: str) -> bool:\n",
    "    s = s.lower()\n",
    "    return s == s[::-1]\n",
    "\n",
    "print(is_palindrome('Ana'))\n",
    "print(is_palindrome('anade'))  "
   ]
  },
  {
   "cell_type": "markdown",
   "metadata": {
    "id": "IyJBIte7eCSh"
   },
   "source": [
    "Завдання 2: Розв’язати квадратне рівняння $ax^2+bx + c = 0$.  Напишіть функцію,яка приймає параметри квадратного рівняння, а повертає одне рішення або декілька.\n",
    "\n",
    "Наприклад:  \n",
    "\n",
    "\n",
    "```\n",
    "solve_quad(a=1, b=-2, c=1) -> 1  \n",
    "solve_quad(a=1, b=0, c=-1) -> (-1, 1)  \n",
    "solve_quad(a=0, b=2, c=-1) -> 0.5\n",
    "```\n",
    "\n",
    "\n",
    "\n",
    "\n",
    "\n"
   ]
  },
  {
   "cell_type": "code",
   "execution_count": 9,
   "metadata": {
    "ExecuteTime": {
     "end_time": "2024-02-21T08:31:36.489509800Z",
     "start_time": "2024-02-21T08:31:36.442044Z"
    },
    "id": "T-fCGsPjeCSh"
   },
   "outputs": [
    {
     "name": "stdout",
     "output_type": "stream",
     "text": [
      "(0.5, -0.8333333333333334)\n"
     ]
    }
   ],
   "source": [
    "import math\n",
    "\n",
    "def solve_quad(a: float, b: float, c: float):\n",
    "    discriminant = b**2 - 4*a*c\n",
    "    if discriminant > 0:\n",
    "        x1 = (-b + math.sqrt(discriminant)) / (2*a)\n",
    "        x2 = (-b - math.sqrt(discriminant)) / (2*a)\n",
    "        return x1, x2\n",
    "    elif discriminant == 0:\n",
    "        x = -b / (2*a)\n",
    "        return x\n",
    "    else:\n",
    "        return \"No real roots\"\n",
    "\n",
    "print(solve_quad(12, 4, -5))\n"
   ]
  },
  {
   "cell_type": "markdown",
   "metadata": {
    "id": "XTXSIYdYeCSh"
   },
   "source": [
    "Завдання 3: Реалізація функції merge. На вхід функція приймає 2 відсортованих масиви - `a` і `b`. Функція повинна повернути один відсортований масив, який містить всі елементи масивів `a` і `b`.\n",
    "\n",
    "Наприклад: `merge([1, 3, 3, 5], [3, 5, 5, 7]) -> [1, 3, 3, 3, 5, 5, 5, 7]`"
   ]
  },
  {
   "cell_type": "code",
   "execution_count": 10,
   "metadata": {
    "ExecuteTime": {
     "end_time": "2024-02-21T08:31:36.556953400Z",
     "start_time": "2024-02-21T08:31:36.469595800Z"
    },
    "id": "nfXKB-nveCSh"
   },
   "outputs": [
    {
     "name": "stdout",
     "output_type": "stream",
     "text": [
      "[1, 3, 3, 3, 5, 5, 5, 7]\n"
     ]
    }
   ],
   "source": [
    "from typing import List\n",
    "\n",
    "def merge(a: List[int], b: List[int]) -> List[int]:\n",
    "    merged = []\n",
    "    i = j = 0\n",
    "    \n",
    "    while i < len(a) and j < len(b):\n",
    "        if a[i] <= b[j]:\n",
    "            merged.append(a[i])\n",
    "            i += 1\n",
    "        else:\n",
    "            merged.append(b[j])\n",
    "            j += 1\n",
    "\n",
    "    while i < len(a):\n",
    "        merged.append(a[i])\n",
    "        i += 1\n",
    "\n",
    "    while j < len(b):\n",
    "        merged.append(b[j])\n",
    "        j += 1\n",
    "\n",
    "    return merged\n",
    "\n",
    "print(merge([1, 3, 3, 5], [3, 5, 5, 7]))  \n"
   ]
  },
  {
   "cell_type": "markdown",
   "metadata": {
    "id": "Z4zl4_cNeCSi"
   },
   "source": [
    "Завдання 4: Реалізація алгоритму [MergeSort](https://ru.wikipedia.org/wiki/%D0%A1%D0%BE%D1%80%D1%82%D0%B8%D1%80%D0%BE%D0%B2%D0%BA%D0%B0_%D1%81%D0%BB%D0%B8%D1%8F%D0%BD%D0%B8%D0%B5%D0%BC)..\n",
    "\n",
    "Наприклад: `MergeSort([3, 1, 3, 5]) -> [1, 3, 3, 5]`"
   ]
  },
  {
   "cell_type": "code",
   "execution_count": 11,
   "metadata": {
    "ExecuteTime": {
     "end_time": "2024-02-21T08:31:36.579288Z",
     "start_time": "2024-02-21T08:31:36.533422100Z"
    },
    "id": "VhDE9sTyeCSi"
   },
   "outputs": [
    {
     "name": "stdout",
     "output_type": "stream",
     "text": [
      "[1, 3, 3, 5]\n"
     ]
    }
   ],
   "source": [
    "from typing import List\n",
    "\n",
    "def merge_sort(L: List[int]) -> List[int]:\n",
    "    if len(L) <= 1:\n",
    "        return L\n",
    "\n",
    "    mid = len(L) // 2\n",
    "    left = merge_sort(L[:mid])\n",
    "    right = merge_sort(L[mid:])\n",
    "\n",
    "    return merge(left, right)\n",
    "\n",
    "def merge(left: List[int], right: List[int]) -> List[int]:\n",
    "    merged = []\n",
    "    i = j = 0\n",
    "\n",
    "    while i < len(left) and j < len(right):\n",
    "        if left[i] <= right[j]:\n",
    "            merged.append(left[i])\n",
    "            i += 1\n",
    "        else:\n",
    "            merged.append(right[j])\n",
    "            j += 1\n",
    "\n",
    "    merged.extend(left[i:])\n",
    "    merged.extend(right[j:])\n",
    "\n",
    "    return merged\n",
    "\n",
    "print(merge_sort([3, 1, 3, 5])) \n"
   ]
  },
  {
   "cell_type": "markdown",
   "metadata": {
    "id": "oiEEW3IKeCSj"
   },
   "source": [
    "## Знайомство з numpy."
   ]
  },
  {
   "cell_type": "markdown",
   "metadata": {
    "id": "eEtj358ceCSj"
   },
   "source": [
    "Всі завдання з цієї частини передбачають написання функції на мові Python, а так само приклади роботи цієї функції. При реалізації завдань потрібно використовувати методи з бібліотеки `numpy`. Рішення з циклами будуть оцінені в 0 балів.\n",
    "\n",
    "[базова документація](http://www.numpy.org)\n",
    "\n",
    "```NB```: Під матрицею розуміється двовимірний [numpy.array](https://docs.scipy.org/doc/numpy/reference/generated/numpy.array.html)\n",
    "\n",
    "Для підключення модуля скористайтеся наступним рядком.\n",
    "Використовуйте стандартне скорочення np."
   ]
  },
  {
   "cell_type": "code",
   "execution_count": 12,
   "metadata": {
    "ExecuteTime": {
     "end_time": "2024-02-21T08:31:36.655475600Z",
     "start_time": "2024-02-21T08:31:36.582679500Z"
    },
    "id": "tpv_AzJzeCSj"
   },
   "outputs": [],
   "source": [
    "import numpy as np"
   ]
  },
  {
   "cell_type": "markdown",
   "metadata": {
    "id": "syBtY_AReCSj"
   },
   "source": [
    "Cтворення одномірного і двомірного масивів методами numpy:"
   ]
  },
  {
   "cell_type": "code",
   "execution_count": 13,
   "metadata": {
    "ExecuteTime": {
     "end_time": "2024-02-21T08:31:36.687568400Z",
     "start_time": "2024-02-21T08:31:36.640852200Z"
    },
    "id": "yfm0zbHJeCSj",
    "outputId": "e896f45e-df10-4364-f796-10032bd467cd"
   },
   "outputs": [
    {
     "name": "stdout",
     "output_type": "stream",
     "text": [
      "[1. 2. 3.]\n"
     ]
    }
   ],
   "source": [
    "Ar1d = np.array([1, 2, 3], dtype=np.float64)\n",
    "print(Ar1d)"
   ]
  },
  {
   "cell_type": "code",
   "execution_count": 14,
   "metadata": {
    "ExecuteTime": {
     "end_time": "2024-02-21T08:31:36.722609400Z",
     "start_time": "2024-02-21T08:31:36.691483800Z"
    },
    "id": "NO1tV1fteCSk",
    "outputId": "59fedd1c-9b1b-43a9-a689-822c7efb3927"
   },
   "outputs": [
    {
     "name": "stdout",
     "output_type": "stream",
     "text": [
      "[[1. 2.]\n",
      " [3. 4.]]\n"
     ]
    }
   ],
   "source": [
    "Ar2d = np.array([[1, 2],\n",
    "                [3, 4]], dtype=float)\n",
    "print(Ar2d)"
   ]
  },
  {
   "cell_type": "markdown",
   "metadata": {
    "id": "NZns18uoeCSk"
   },
   "source": [
    "Завдання 6: Написати функцію яка на вхід приймає 3 масиви – `X, Y, Z`. функція повертатиме `True` у випадку, коли вони рівні та `False` – якщо ні.\n",
    "\n",
    "Рекомендація до завдання: Не використовуйте оператор `==`"
   ]
  },
  {
   "cell_type": "code",
   "execution_count": 15,
   "metadata": {
    "ExecuteTime": {
     "end_time": "2024-02-21T08:31:36.793392500Z",
     "start_time": "2024-02-21T08:31:36.713574400Z"
    },
    "id": "nzv5GOlqeCSl"
   },
   "outputs": [
    {
     "name": "stdout",
     "output_type": "stream",
     "text": [
      "True\n",
      "False\n"
     ]
    }
   ],
   "source": [
    "def is_equal(X, Y, Z):\n",
    "    if len(X) != len(Y) or len(X) != len(Z):\n",
    "        return False\n",
    "    \n",
    "    for x, y, z in zip(X, Y, Z):\n",
    "        if x != y or x != z:\n",
    "            return False\n",
    "    \n",
    "    return True\n",
    "\n",
    "print(is_equal([1,2,3], [1,2,3], [1,2,3]))  \n",
    "print(is_equal([1,3,2], [1,2,3], [1,2,3])) "
   ]
  },
  {
   "cell_type": "markdown",
   "metadata": {
    "id": "4vYN-bnIeCSl"
   },
   "source": [
    "Завдання 7: написати функцію, яка приймає на вході вектор рядок, а повертає вектор стовбець.\n",
    "\n",
    "Рекомендація до завдання: Забороняється використовувати операцію транспонування! Скористайтесь методом `reshape`."
   ]
  },
  {
   "cell_type": "code",
   "execution_count": 16,
   "metadata": {
    "ExecuteTime": {
     "end_time": "2024-02-21T08:31:36.831339600Z",
     "start_time": "2024-02-21T08:31:36.767100900Z"
    },
    "id": "cwnufrdPeCSl"
   },
   "outputs": [
    {
     "name": "stdout",
     "output_type": "stream",
     "text": [
      "Vector x:\n",
      "[ 1  2  3  4  5  6  8  9 12 41]\n",
      "\n",
      "Vector y:\n",
      "[[ 1]\n",
      " [ 2]\n",
      " [ 3]\n",
      " [ 4]\n",
      " [ 5]\n",
      " [ 6]\n",
      " [ 8]\n",
      " [ 9]\n",
      " [12]\n",
      " [41]]\n"
     ]
    }
   ],
   "source": [
    "def rot_vec(x):\n",
    "    return x.reshape(-1, 1)\n",
    "\n",
    "vector_x = np.array([1, 2, 3, 4, 5, 6, 8, 9, 12, 41])\n",
    "\n",
    "vector_y = rot_vec(vector_x)\n",
    "\n",
    "print(\"Vector x:\")\n",
    "print(vector_x)\n",
    "print(\"\\nVector y:\")\n",
    "print(vector_y)\n"
   ]
  },
  {
   "cell_type": "code",
   "execution_count": 16,
   "metadata": {
    "ExecuteTime": {
     "end_time": "2024-02-21T08:31:36.893865900Z",
     "start_time": "2024-02-21T08:31:36.816114200Z"
    }
   },
   "outputs": [],
   "source": []
  },
  {
   "cell_type": "markdown",
   "metadata": {
    "id": "uvi-JOAheCSl"
   },
   "source": [
    "Завдання 8: Написати функцію яка приймає на вхід двовимірний масив, а повертає масив з діагональними елементами цієї матриці.\n",
    "\n",
    "Наприклад: `[[1, 2], [3, 4]] -> [1 4]`"
   ]
  },
  {
   "cell_type": "code",
   "execution_count": 17,
   "metadata": {
    "ExecuteTime": {
     "end_time": "2024-02-21T08:31:36.952048Z",
     "start_time": "2024-02-21T08:31:36.897022300Z"
    },
    "id": "uBSPXOJkeCSl"
   },
   "outputs": [
    {
     "name": "stdout",
     "output_type": "stream",
     "text": [
      "[1, 4]\n"
     ]
    }
   ],
   "source": [
    "def get_diag(X):\n",
    "    diag = [X[i][i] for i in range(min(len(X), len(X[0])))]    \n",
    "    return diag\n",
    "\n",
    "data_matrix_numpy = np.array([[1, 2], [3, 4]])\n",
    "\n",
    "get_diag_matrix = get_diag(data_matrix_numpy)\n",
    "\n",
    "print(get_diag_matrix)\n"
   ]
  },
  {
   "cell_type": "markdown",
   "metadata": {
    "id": "PvwgIU1veCSm"
   },
   "source": [
    "Завдання 9: Написати функцію яка приймає на вхід двомірний масив, а повертає масив елементів які знаходяться на другорядній діагоналі. Приклад: `[[1, 2], [3, 4]] -> [2 3]`"
   ]
  },
  {
   "cell_type": "code",
   "execution_count": 18,
   "metadata": {
    "ExecuteTime": {
     "end_time": "2024-02-21T08:31:36.996649400Z",
     "start_time": "2024-02-21T08:31:36.925141Z"
    },
    "id": "zIRKjQofeCSm"
   },
   "outputs": [
    {
     "name": "stdout",
     "output_type": "stream",
     "text": [
      "[2, 3]\n"
     ]
    }
   ],
   "source": [
    "def sec_diag(X):\n",
    "    size = min(len(X), len(X[0]))\n",
    "    diag = [X[i][size - i - 1] for i in range(size)]\n",
    "    return diag\n",
    "\n",
    "data_matrix_numpy = np.array([[1, 2], [3, 4]])\n",
    "\n",
    "get_diag_matrix = sec_diag(data_matrix_numpy)\n",
    "\n",
    "print(get_diag_matrix)\n"
   ]
  },
  {
   "cell_type": "markdown",
   "metadata": {
    "id": "TQ61tk7SeCSm"
   },
   "source": [
    "## Робота з бібліотекою pandas\n",
    "\n",
    "В наступній частині лабораторної роботи розглянемо бібліотеку pandas.\n",
    "Перед виконанням цієї частини необхідно завантажити датасет `titanic.csv`\n",
    "\n",
    "[основна документація цього розділу](https://pandas.pydata.org/)"
   ]
  },
  {
   "cell_type": "code",
   "execution_count": 19,
   "metadata": {
    "ExecuteTime": {
     "end_time": "2024-02-21T08:31:38.629487700Z",
     "start_time": "2024-02-21T08:31:36.998863600Z"
    },
    "id": "Fbe_qcF0eCSm"
   },
   "outputs": [],
   "source": [
    "import pandas as pd\n",
    "\n",
    "# Завантажте датасет. Ознайомтесь з тим як це правильно зробити, уважно прочитавши документацію по функції pd.read_csv.\n",
    "# Зверніть особливу увагу на роздільники датасета.\n",
    "\n",
    "dataset = pd.read_csv(\"titanic.csv\")"
   ]
  },
  {
   "cell_type": "markdown",
   "metadata": {
    "id": "qTxYBLWdeCSm"
   },
   "source": [
    "Завдання 10: Кого більше - чоловіків чи жінок?"
   ]
  },
  {
   "cell_type": "code",
   "execution_count": 20,
   "metadata": {
    "ExecuteTime": {
     "end_time": "2024-02-21T08:31:38.647085Z",
     "start_time": "2024-02-21T08:31:38.627313400Z"
    },
    "id": "58MgIBEleCSm"
   },
   "outputs": [
    {
     "name": "stdout",
     "output_type": "stream",
     "text": [
      "There are more Males with a count of 577.\n"
     ]
    }
   ],
   "source": [
    "def who_more():\n",
    "    dataset = pd.read_csv(\"titanic.csv\")\n",
    "    male, female = dataset['Sex'].value_counts()\n",
    "\n",
    "    if male > female:\n",
    "        return \"Male\", male\n",
    "    elif female > male:\n",
    "        return \"Female\", female\n",
    "    else:\n",
    "        return \"Equal\", male\n",
    "\n",
    "gender, count = who_more()\n",
    "print(f\"There are more {gender}s with a count of {count}.\")\n"
   ]
  },
  {
   "cell_type": "markdown",
   "metadata": {
    "id": "ApLZCvNveCSm"
   },
   "source": [
    "Завдання 11: Виведіть наступні характеристики пасажирів: середній вік пасажирів, середній вік чоловіків, середній вік жінок, максимальний і мінімальний вік серед чоловіків і жінок."
   ]
  },
  {
   "cell_type": "code",
   "execution_count": 21,
   "metadata": {
    "ExecuteTime": {
     "end_time": "2024-02-21T08:31:38.660511600Z",
     "start_time": "2024-02-21T08:31:38.644984300Z"
    },
    "id": "Sg59NcqLeCSn"
   },
   "outputs": [
    {
     "name": "stdout",
     "output_type": "stream",
     "text": [
      "Mean age all passanger: 29.69911764705882\n",
      "Mean age male: 30.72664459161148\n",
      "Mean age female: 27.915708812260537\n",
      "Oldest male: 80.0\n",
      "Youngest male: 0.42\n",
      "Oldest female: 63.0\n",
      "Youngest female: 0.75\n"
     ]
    }
   ],
   "source": [
    "def mean_info_passanger():\n",
    "    dataset = pd.read_csv(\"titanic.csv\")\n",
    "\n",
    "    age_and_sex = dataset[['Age', 'Sex']]\n",
    "\n",
    "    mean_age_passanger = age_and_sex['Age'].mean()\n",
    "\n",
    "    mean_age_male = age_and_sex[age_and_sex['Sex'] == 'male']['Age'].mean()\n",
    "\n",
    "    mean_age_female = age_and_sex[age_and_sex['Sex'] == 'female']['Age'].mean()\n",
    "\n",
    "    max_age_male = age_and_sex[age_and_sex['Sex'] == 'male']['Age'].max()\n",
    "\n",
    "    min_age_male = age_and_sex[age_and_sex['Sex'] == 'male']['Age'].min()\n",
    "\n",
    "    max_age_female = age_and_sex[age_and_sex['Sex'] == 'female']['Age'].max()\n",
    "\n",
    "    min_age_female = age_and_sex[age_and_sex['Sex'] == 'female']['Age'].min()\n",
    "\n",
    "    return mean_age_passanger, mean_age_male, mean_age_female, max_age_male, min_age_male, max_age_female, min_age_female\n",
    "\n",
    "mean_age_passanger, mean_age_male, mean_age_female, max_age_male, min_age_male, max_age_female, min_age_female = mean_info_passanger()\n",
    "\n",
    "print(\"Mean age all passanger:\", mean_age_passanger)\n",
    "print(\"Mean age male:\", mean_age_male)\n",
    "print(\"Mean age female:\", mean_age_female)\n",
    "print(\"Oldest male:\", max_age_male)\n",
    "print(\"Youngest male:\", min_age_male)\n",
    "print(\"Oldest female:\", max_age_female)\n",
    "print(\"Youngest female:\", min_age_female)\n"
   ]
  },
  {
   "cell_type": "markdown",
   "metadata": {
    "id": "P5zkuX9VeCSn"
   },
   "source": [
    " ## Знайомство з бібліотекою matplotlib"
   ]
  },
  {
   "cell_type": "markdown",
   "metadata": {
    "id": "cYyqxB4MeCSn"
   },
   "source": [
    "Для початку ознайомтесь з [документацією](https://matplotlib.org/)"
   ]
  },
  {
   "cell_type": "markdown",
   "metadata": {
    "id": "pEt3gexreCSn"
   },
   "source": [
    "Завдання 12: Для наведених та реалізованих графіків Вам нобхідно зробити розширення (додати підписи, легенду тощо):\n",
    "\n",
    "$f_{1}(x) =  \\frac{sin(x)}{x}$\n",
    "\n",
    "$f_{2}(x) =  \\frac{cos(x)}{x^2 + 1}$\n",
    "\n",
    "$f_{3}(x) =  cos^2(x) - \\frac{sin(x)}{2}$  \n",
    "\n",
    "$f_{4}(x) =  cos(x)$  \n",
    "\n",
    "$f_{5}(x) =  \\frac{sin(x)}{x^2 + 1}$"
   ]
  },
  {
   "cell_type": "code",
   "execution_count": 22,
   "metadata": {
    "ExecuteTime": {
     "end_time": "2024-02-21T08:31:39.600331Z",
     "start_time": "2024-02-21T08:31:38.659512200Z"
    },
    "id": "YVT6yXXqeCSn"
   },
   "outputs": [],
   "source": [
    "from matplotlib import pylab as plt\n",
    "%matplotlib inline"
   ]
  },
  {
   "cell_type": "code",
   "execution_count": 23,
   "metadata": {
    "ExecuteTime": {
     "end_time": "2024-02-21T08:31:39.737653500Z",
     "start_time": "2024-02-21T08:31:39.580073300Z"
    },
    "id": "UtB89oaVeCSn",
    "outputId": "48a50904-4cd7-4373-e09b-9c1c6004d418"
   },
   "outputs": [
    {
     "data": {
      "image/png": "[encoded data removed]",
      "text/plain": [
       "<Figure size 640x480 with 1 Axes>"
      ]
     },
     "metadata": {},
     "output_type": "display_data"
    }
   ],
   "source": [
    "x = [i for i in range(50)]\n",
    "y = [i**2 for i in range(50)]\n",
    "\n",
    "fig, ax = plt.subplots()\n",
    "\n",
    "ax.plot(x, y, label='Line')\n",
    "\n",
    "ax.legend(loc=\"upper left\")\n",
    "\n",
    "\n",
    "ax.set_title(\"Graphic #1\")\n",
    "ax.set_xlabel(\"x\")\n",
    "ax.set_ylabel(\"y\")\n",
    "\n",
    "plt.show()\n"
   ]
  },
  {
   "cell_type": "code",
   "execution_count": 24,
   "metadata": {
    "ExecuteTime": {
     "end_time": "2024-02-21T08:31:39.738716200Z",
     "start_time": "2024-02-21T08:31:39.730547Z"
    },
    "id": "tCJ2CuOAeCSo"
   },
   "outputs": [],
   "source": [
    "import matplotlib.pyplot as plt\n",
    "import numpy as np\n",
    "x = np.arange(-10, 10, 0.01)\n",
    "\n",
    "y1 = np.sin(x) / x\n",
    "y2 = np.cos(x) / (1. + x ** 2)\n",
    "y3 = np.cos(x) * np.cos(x) - np.sin(x) / 2."
   ]
  },
  {
   "cell_type": "code",
   "execution_count": 25,
   "metadata": {
    "ExecuteTime": {
     "end_time": "2024-02-21T08:31:39.905110300Z",
     "start_time": "2024-02-21T08:31:39.746104100Z"
    },
    "id": "ki86Yt_XeCSo",
    "outputId": "543d5281-b728-4f43-d545-b60d2b8f7f04"
   },
   "outputs": [
    {
     "data": {
      "image/png": "[encoded data removed]",
      "text/plain": [
       "<Figure size 640x480 with 1 Axes>"
      ]
     },
     "metadata": {},
     "output_type": "display_data"
    }
   ],
   "source": [
    "plt.plot(x, y1, label='y1') \n",
    "plt.plot(x, y2, label='y2')  \n",
    "plt.plot(x, y3, label='y3')  \n",
    "\n",
    "plt.legend()\n",
    "\n",
    "plt.title('Graphic #2')\n",
    "\n",
    "plt.show()\n"
   ]
  },
  {
   "cell_type": "code",
   "execution_count": 26,
   "metadata": {
    "ExecuteTime": {
     "end_time": "2024-02-21T08:31:40.015112200Z",
     "start_time": "2024-02-21T08:31:39.905110300Z"
    },
    "id": "U3iVhlYeeCSo"
   },
   "outputs": [],
   "source": [
    "import matplotlib.pyplot as plt\n",
    "\n",
    "x = np.arange(-10, 10, 0.01)\n",
    "\n",
    "y4 = np.cos(x)\n",
    "y5 = np.sin(x) / (1. + x ** 2)"
   ]
  },
  {
   "cell_type": "code",
   "execution_count": 27,
   "metadata": {
    "ExecuteTime": {
     "end_time": "2024-02-21T08:31:40.090753500Z",
     "start_time": "2024-02-21T08:31:39.944128500Z"
    },
    "id": "70fOVYjJeCSo",
    "outputId": "2e700e4d-1d73-4232-fc8b-8528146ac5e2"
   },
   "outputs": [
    {
     "data": {
      "image/png": "[encoded data removed]",
      "text/plain": [
       "<Figure size 640x480 with 1 Axes>"
      ]
     },
     "metadata": {},
     "output_type": "display_data"
    }
   ],
   "source": [
    "plt.plot(x,y4, label = 'y4')\n",
    "plt.plot(x,y5, label = 'y5')\n",
    "plt.title('Graphic #3')\n",
    "plt.legend()\n",
    "plt.show()\n"
   ]
  },
  {
   "cell_type": "markdown",
   "metadata": {
    "id": "Tg-QmR-eeCSp"
   },
   "source": [
    "Завдання 13: Для побудованого ргафіку щільності розподілу випадкової змінної Вам необхідно зробити доповнення (підписи, легенда тощо)."
   ]
  },
  {
   "cell_type": "code",
   "execution_count": 28,
   "metadata": {
    "ExecuteTime": {
     "end_time": "2024-02-21T08:31:40.092818100Z",
     "start_time": "2024-02-21T08:31:40.076389700Z"
    },
    "id": "9Av3YD1NeCSp"
   },
   "outputs": [],
   "source": [
    "d = np.random.normal(loc=2.0, scale=3.5, size=1000)"
   ]
  },
  {
   "cell_type": "code",
   "execution_count": 29,
   "metadata": {
    "ExecuteTime": {
     "end_time": "2024-02-21T08:31:40.215250100Z",
     "start_time": "2024-02-21T08:31:40.084396600Z"
    },
    "id": "rBQNcArUeCSp",
    "outputId": "1fe0b87a-762a-44c8-e965-c8c6a076a503"
   },
   "outputs": [
    {
     "data": {
      "image/png": "[encoded data removed]",
      "text/plain": [
       "<Figure size 640x480 with 1 Axes>"
      ]
     },
     "metadata": {},
     "output_type": "display_data"
    }
   ],
   "source": [
    "plt.hist(d, color='blue', label='Histogram')\n",
    "\n",
    "plt.text(-8, 200, \"Histogram\") \n",
    "\n",
    "plt.legend(loc=\"upper left\")\n",
    "\n",
    "plt.title(\"Graphic #4\")\n",
    "\n",
    "plt.xlabel(\"X\")\n",
    "plt.ylabel(\"Y\")\n",
    "\n",
    "plt.show()\n"
   ]
  },
  {
   "cell_type": "markdown",
   "metadata": {
    "id": "mpBxw_8hTEJv"
   },
   "source": [
    "Кожне правильно виконане завдання оцінюється в `1 бал`."
   ]
  }
 ],
 "metadata": {
  "colab": {
   "provenance": []
  },
  "kernelspec": {
   "display_name": "Python 3",
   "language": "python",
   "name": "python3"
  },
  "language_info": {
   "codemirror_mode": {
    "name": "ipython",
    "version": 3
   },
   "file_extension": ".py",
   "mimetype": "text/x-python",
   "name": "python",
   "nbconvert_exporter": "python",
   "pygments_lexer": "ipython3",
   "version": "0.0.0"
  }
 },
 "nbformat": 4,
 "nbformat_minor": 0
}
